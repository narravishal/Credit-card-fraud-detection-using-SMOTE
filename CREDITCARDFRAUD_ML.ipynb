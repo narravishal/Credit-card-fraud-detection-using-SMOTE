Credit Card Fraud Detection Using Personal Date in Excel sheet IN SMOTE

{
 "cells": [
  {
   "cell_type": "code",
   "execution_count": 1,
   "metadata": {},
   "outputs": [],
   "source": [
    "import numpy as np\n",
    "import pandas as pd"
   ]
  },
  {
   "cell_type": "code",
   "execution_count": 2,
   "metadata": {},
   "outputs": [],
   "source": [
    "credit_fraud=pd.read_excel(\"C:/Users/Lenovo/Desktop/CREDIT_CARD_FRAUD (1).xlsx\")"
   ]
  },
  {
   "cell_type": "code",
   "execution_count": 3,
   "metadata": {},
   "outputs": [
    {
     "data": {
      "text/html": [
       "<div>\n",
       "<style scoped>\n",
       "    .dataframe tbody tr th:only-of-type {\n",
       "        vertical-align: middle;\n",
       "    }\n",
       "\n",
       "    .dataframe tbody tr th {\n",
       "        vertical-align: top;\n",
       "    }\n",
       "\n",
       "    .dataframe thead th {\n",
       "        text-align: right;\n",
       "    }\n",
       "</style>\n",
       "<table border=\"1\" class=\"dataframe\">\n",
       "  <thead>\n",
       "    <tr style=\"text-align: right;\">\n",
       "      <th></th>\n",
       "      <th>Customer_Id</th>\n",
       "      <th>Customer_Name</th>\n",
       "      <th>Customer_City</th>\n",
       "      <th>Customer_State</th>\n",
       "      <th>Time</th>\n",
       "      <th>Tansaction_Mode</th>\n",
       "      <th>Transaction_type</th>\n",
       "      <th>Amount</th>\n",
       "      <th>Gender</th>\n",
       "      <th>No_of_Cards_Hold</th>\n",
       "      <th>...</th>\n",
       "      <th>Salary</th>\n",
       "      <th>Existing_Credit_Card</th>\n",
       "      <th>PinCode</th>\n",
       "      <th>Pancard</th>\n",
       "      <th>Housing</th>\n",
       "      <th>Property_Area</th>\n",
       "      <th>Present_residence</th>\n",
       "      <th>No_of_Dependants</th>\n",
       "      <th>Married</th>\n",
       "      <th>Credit_Fraud</th>\n",
       "    </tr>\n",
       "  </thead>\n",
       "  <tbody>\n",
       "    <tr>\n",
       "      <td>0</td>\n",
       "      <td>AD125786</td>\n",
       "      <td>VENKAT</td>\n",
       "      <td>HYDERABAD</td>\n",
       "      <td>ANDHRA</td>\n",
       "      <td>00:30:00</td>\n",
       "      <td>ONLINE</td>\n",
       "      <td>NET_BANKING</td>\n",
       "      <td>25.0</td>\n",
       "      <td>MALE</td>\n",
       "      <td>2</td>\n",
       "      <td>...</td>\n",
       "      <td>55.0</td>\n",
       "      <td>SBI</td>\n",
       "      <td>276543</td>\n",
       "      <td>ACPER345</td>\n",
       "      <td>RENT</td>\n",
       "      <td>URBAN</td>\n",
       "      <td>HYDERABAD</td>\n",
       "      <td>3</td>\n",
       "      <td>NO</td>\n",
       "      <td>NO</td>\n",
       "    </tr>\n",
       "    <tr>\n",
       "      <td>1</td>\n",
       "      <td>AS987878</td>\n",
       "      <td>JAYA</td>\n",
       "      <td>WARANGAL</td>\n",
       "      <td>TELANGANA</td>\n",
       "      <td>00:50:00</td>\n",
       "      <td>OFFLINE</td>\n",
       "      <td>CHEQUE</td>\n",
       "      <td>100.0</td>\n",
       "      <td>MALE</td>\n",
       "      <td>2</td>\n",
       "      <td>...</td>\n",
       "      <td>200.0</td>\n",
       "      <td>ICICI</td>\n",
       "      <td>987894</td>\n",
       "      <td>MCTRP234</td>\n",
       "      <td>OWN</td>\n",
       "      <td>SEMI_URBAN</td>\n",
       "      <td>WARANGAL</td>\n",
       "      <td>4</td>\n",
       "      <td>YES</td>\n",
       "      <td>NO</td>\n",
       "    </tr>\n",
       "    <tr>\n",
       "      <td>2</td>\n",
       "      <td>BC456324</td>\n",
       "      <td>LAKSHMI</td>\n",
       "      <td>MUMBAI</td>\n",
       "      <td>MAHARASHTRA</td>\n",
       "      <td>00:55:00</td>\n",
       "      <td>ONLINE</td>\n",
       "      <td>POS</td>\n",
       "      <td>100.0</td>\n",
       "      <td>FEMALE</td>\n",
       "      <td>1</td>\n",
       "      <td>...</td>\n",
       "      <td>35.0</td>\n",
       "      <td>AXIS</td>\n",
       "      <td>678543</td>\n",
       "      <td>JKLTFG98</td>\n",
       "      <td>RENT</td>\n",
       "      <td>RURAL</td>\n",
       "      <td>MUMBAI</td>\n",
       "      <td>2</td>\n",
       "      <td>NO</td>\n",
       "      <td>YES</td>\n",
       "    </tr>\n",
       "    <tr>\n",
       "      <td>3</td>\n",
       "      <td>AB528932</td>\n",
       "      <td>RIYA</td>\n",
       "      <td>BANGLORE</td>\n",
       "      <td>KARNATAKA</td>\n",
       "      <td>00:05:20</td>\n",
       "      <td>ONLINE</td>\n",
       "      <td>POS</td>\n",
       "      <td>18.0</td>\n",
       "      <td>FEMALE</td>\n",
       "      <td>3</td>\n",
       "      <td>...</td>\n",
       "      <td>50.0</td>\n",
       "      <td>ANDRA_BANK</td>\n",
       "      <td>586492</td>\n",
       "      <td>EFTYJ521</td>\n",
       "      <td>RENT</td>\n",
       "      <td>URBAN</td>\n",
       "      <td>SECUNDRABAD</td>\n",
       "      <td>5</td>\n",
       "      <td>YES</td>\n",
       "      <td>NO</td>\n",
       "    </tr>\n",
       "    <tr>\n",
       "      <td>4</td>\n",
       "      <td>CF894532</td>\n",
       "      <td>KIYA</td>\n",
       "      <td>CHENNAI</td>\n",
       "      <td>TAMIL NADU</td>\n",
       "      <td>01:34:02</td>\n",
       "      <td>OFFLINE</td>\n",
       "      <td>CASH_WITHDRAWL</td>\n",
       "      <td>1.0</td>\n",
       "      <td>FEMALE</td>\n",
       "      <td>1</td>\n",
       "      <td>...</td>\n",
       "      <td>60.0</td>\n",
       "      <td>KOTAK</td>\n",
       "      <td>235987</td>\n",
       "      <td>REDSGF58</td>\n",
       "      <td>OWN</td>\n",
       "      <td>RURAL</td>\n",
       "      <td>NIZAMBAD</td>\n",
       "      <td>4</td>\n",
       "      <td>YES</td>\n",
       "      <td>NO</td>\n",
       "    </tr>\n",
       "  </tbody>\n",
       "</table>\n",
       "<p>5 rows × 26 columns</p>\n",
       "</div>"
      ],
      "text/plain": [
       "  Customer_Id Customer_Name Customer_City Customer_State      Time  \\\n",
       "0    AD125786        VENKAT     HYDERABAD         ANDHRA  00:30:00   \n",
       "1    AS987878          JAYA      WARANGAL      TELANGANA  00:50:00   \n",
       "2    BC456324       LAKSHMI        MUMBAI    MAHARASHTRA  00:55:00   \n",
       "3    AB528932          RIYA      BANGLORE      KARNATAKA  00:05:20   \n",
       "4    CF894532          KIYA       CHENNAI     TAMIL NADU  01:34:02   \n",
       "\n",
       "  Tansaction_Mode Transaction_type  Amount  Gender  No_of_Cards_Hold  ...  \\\n",
       "0          ONLINE      NET_BANKING    25.0    MALE                 2  ...   \n",
       "1         OFFLINE           CHEQUE   100.0    MALE                 2  ...   \n",
       "2          ONLINE              POS   100.0  FEMALE                 1  ...   \n",
       "3          ONLINE              POS    18.0  FEMALE                 3  ...   \n",
       "4         OFFLINE   CASH_WITHDRAWL     1.0  FEMALE                 1  ...   \n",
       "\n",
       "   Salary  Existing_Credit_Card  PinCode   Pancard Housing Property_Area  \\\n",
       "0    55.0                   SBI   276543  ACPER345    RENT         URBAN   \n",
       "1   200.0                 ICICI   987894  MCTRP234     OWN    SEMI_URBAN   \n",
       "2    35.0                  AXIS   678543  JKLTFG98    RENT         RURAL   \n",
       "3    50.0            ANDRA_BANK   586492  EFTYJ521    RENT         URBAN   \n",
       "4    60.0                 KOTAK   235987  REDSGF58     OWN         RURAL   \n",
       "\n",
       "   Present_residence No_of_Dependants  Married Credit_Fraud  \n",
       "0          HYDERABAD                3       NO           NO  \n",
       "1           WARANGAL                4      YES           NO  \n",
       "2             MUMBAI                2       NO          YES  \n",
       "3        SECUNDRABAD                5      YES           NO  \n",
       "4           NIZAMBAD                4      YES           NO  \n",
       "\n",
       "[5 rows x 26 columns]"
      ]
     },
     "execution_count": 3,
     "metadata": {},
     "output_type": "execute_result"
    }
   ],
   "source": [
    "credit_fraud.head()"
   ]
  },
  {
   "cell_type": "code",
   "execution_count": 4,
   "metadata": {},
   "outputs": [
    {
     "data": {
      "text/plain": [
       "(1088, 26)"
      ]
     },
     "execution_count": 4,
     "metadata": {},
     "output_type": "execute_result"
    }
   ],
   "source": [
    "credit_fraud.shape"
   ]
  },
  {
   "cell_type": "code",
   "execution_count": 5,
   "metadata": {},
   "outputs": [
    {
     "data": {
      "text/plain": [
       "Index(['Customer_Id', 'Customer_Name', 'Customer_City', 'Customer_State',\n",
       "       'Time', 'Tansaction_Mode', 'Transaction_type', 'Amount', 'Gender',\n",
       "       'No_of_Cards_Hold', 'Amount_Balance', 'No_of_Transactions',\n",
       "       'Credit_Limit', 'Age', 'Self_Employment', 'Education', 'Salary',\n",
       "       'Existing_Credit_Card', 'PinCode', 'Pancard', 'Housing',\n",
       "       'Property_Area', 'Present_residence', 'No_of_Dependants', 'Married',\n",
       "       'Credit_Fraud'],\n",
       "      dtype='object')"
      ]
     },
     "execution_count": 5,
     "metadata": {},
     "output_type": "execute_result"
    }
   ],
   "source": [
    "credit_fraud.columns"
   ]
  },
  {
   "cell_type": "code",
   "execution_count": 6,
   "metadata": {},
   "outputs": [
    {
     "data": {
      "text/plain": [
       "(1088, 26)"
      ]
     },
     "execution_count": 6,
     "metadata": {},
     "output_type": "execute_result"
    }
   ],
   "source": [
    "credit_fraud.shape"
   ]
  },
  {
   "cell_type": "code",
   "execution_count": 7,
   "metadata": {},
   "outputs": [
    {
     "data": {
      "text/plain": [
       "Customer_Id               0\n",
       "Customer_Name             0\n",
       "Customer_City             0\n",
       "Customer_State            0\n",
       "Time                    544\n",
       "Tansaction_Mode           0\n",
       "Transaction_type          0\n",
       "Amount                  544\n",
       "Gender                    0\n",
       "No_of_Cards_Hold          0\n",
       "Amount_Balance            0\n",
       "No_of_Transactions        0\n",
       "Credit_Limit              0\n",
       "Age                       0\n",
       "Self_Employment           0\n",
       "Education                 0\n",
       "Salary                    0\n",
       "Existing_Credit_Card      0\n",
       "PinCode                   0\n",
       "Pancard                   0\n",
       "Housing                   0\n",
       "Property_Area             0\n",
       "Present_residence         0\n",
       "No_of_Dependants          0\n",
       "Married                   0\n",
       "Credit_Fraud              0\n",
       "dtype: int64"
      ]
     },
     "execution_count": 7,
     "metadata": {},
     "output_type": "execute_result"
    }
   ],
   "source": [
    "credit_fraud.isnull().sum()"
   ]
  },
  {
   "cell_type": "code",
   "execution_count": 8,
   "metadata": {},
   "outputs": [
    {
     "data": {
      "text/plain": [
       "<matplotlib.axes._subplots.AxesSubplot at 0x1804b0bc108>"
      ]
     },
     "execution_count": 8,
     "metadata": {},
     "output_type": "execute_result"
    }
   ],
   "source": [
    "import matplotlib.pyplot as plt\n",
    "plt.figure(figsize=(15,10))\n",
    "credit_fraud.Customer_City.value_counts().sort_values(ascending=False).plot.bar()"
   ]
  },
  {
   "cell_type": "code",
   "execution_count": 9,
   "metadata": {},
   "outputs": [
    {
     "data": {
      "text/plain": [
       "<matplotlib.axes._subplots.AxesSubplot at 0x1804b591608>"
      ]
     },
     "execution_count": 9,
     "metadata": {},
     "output_type": "execute_result"
    },
    {
     "data": {
      "image/png": "[encoded data removed]",
      "text/plain": [
       "<Figure size 1080x720 with 1 Axes>"
      ]
     },
     "metadata": {
      "needs_background": "light"
     },
     "output_type": "display_data"
    }
   ],
   "source": [
    "import matplotlib.pyplot as plt\n",
    "plt.figure(figsize=(15,10))\n",
    "credit_fraud.Customer_State.value_counts().sort_values(ascending=False).plot.bar()"
   ]
  },
  {
   "cell_type": "code",
   "execution_count": 10,
   "metadata": {},
   "outputs": [
    {
     "data": {
      "text/plain": [
       "<matplotlib.axes._subplots.AxesSubplot at 0x1804bf686c8>"
      ]
     },
     "execution_count": 10,
     "metadata": {},
     "output_type": "execute_result"
    },
    {
     "data": {
      "image/png": "[encoded data removed]",
      "text/plain": [
       "<Figure size 1080x720 with 1 Axes>"
      ]
     },
     "metadata": {
      "needs_background": "light"
     },
     "output_type": "display_data"
    }
   ],
   "source": [
    "import matplotlib.pyplot as plt\n",
    "plt.figure(figsize=(15,10))\n",
    "credit_fraud.Tansaction_Mode.value_counts().sort_values(ascending=False).plot.bar()"
   ]
  },
  {
   "cell_type": "code",
   "execution_count": 11,
   "metadata": {},
   "outputs": [
    {
     "data": {
      "text/plain": [
       "<matplotlib.axes._subplots.AxesSubplot at 0x1804bc60208>"
      ]
     },
     "execution_count": 11,
     "metadata": {},
     "output_type": "execute_result"
    },
    {
     "data": {
      "image/png": "[encoded data removed]",
      "text/plain": [
       "<Figure size 1080x720 with 1 Axes>"
      ]
     },
     "metadata": {
      "needs_background": "light"
     },
     "output_type": "display_data"
    }
   ],
   "source": [
    "import matplotlib.pyplot as plt\n",
    "plt.figure(figsize=(15,10))\n",
    "credit_fraud.Transaction_type.value_counts().sort_values(ascending=False).plot.bar()"
   ]
  },
  {
   "cell_type": "code",
   "execution_count": 12,
   "metadata": {},
   "outputs": [
    {
     "data": {
      "text/plain": [
       "<matplotlib.axes._subplots.AxesSubplot at 0x1804befc948>"
      ]
     },
     "execution_count": 12,
     "metadata": {},
     "output_type": "execute_result"
    },
    {
     "data": {
      "image/png": "[encoded data removed]",
      "text/plain": [
       "<Figure size 1080x720 with 1 Axes>"
      ]
     },
     "metadata": {
      "needs_background": "light"
     },
     "output_type": "display_data"
    }
   ],
   "source": [
    "import matplotlib.pyplot as plt\n",
    "plt.figure(figsize=(15,10))\n",
    "credit_fraud.Gender.value_counts().sort_values(ascending=False).plot.bar()"
   ]
  },
  {
   "cell_type": "code",
   "execution_count": 13,
   "metadata": {},
   "outputs": [
    {
     "data": {
      "text/plain": [
       "<matplotlib.axes._subplots.AxesSubplot at 0x1804c20e088>"
      ]
     },
     "execution_count": 13,
     "metadata": {},
     "output_type": "execute_result"
    },
    {
     "data": {
      "image/png": "[encoded data removed]",
      "text/plain": [
       "<Figure size 1080x720 with 1 Axes>"
      ]
     },
     "metadata": {
      "needs_background": "light"
     },
     "output_type": "display_data"
    }
   ],
   "source": [
    "import matplotlib.pyplot as plt\n",
    "plt.figure(figsize=(15,10))\n",
    "credit_fraud.Credit_Fraud.value_counts().sort_values(ascending=False).plot.bar()"
   ]
  },
  {
   "cell_type": "code",
   "execution_count": 14,
   "metadata": {},
   "outputs": [],
   "source": [
    "credit_fraud.drop(['Customer_Id','Customer_Name','Time','Amount','Pancard'],inplace=True,axis=1)"
   ]
  },
  {
   "cell_type": "code",
   "execution_count": 15,
   "metadata": {},
   "outputs": [],
   "source": [
    "credit_fraud[\"Customer_City\"]=credit_fraud[\"Customer_City\"].map({'AGRA': 1, 'AMRITSAR': 2, 'BANGLORE': 3, 'BHOPAL': 4, \n",
    "                                                                 'CHENNAI': 5, 'DEHERADUN': 6, 'GUNTUR': 7, 'HYDERABAD': 8, \n",
    "                                                                 'INDORE': 9, 'JABALPUR': 10, 'JAIPUR': 11, 'JODHPUR': 12, \n",
    "                                                                 'KAMMAM': 13, 'KANPUR': 14, 'KARIMNAGAR': 15, 'KOCHI': 16, \n",
    "                                                                 'KOLKATA': 17, 'LUCKNOW': 18, 'MADHURI': 19, 'MANGLORE': 20, \n",
    "                                                                 'MUMBAI': 21, 'MYSURU': 22, 'NAKPUR': 23, 'NASHIK': 24, \n",
    "                                                                 'NIZAMBAD': 25, 'NODIA': 26, 'PATNA': 27, 'PUNE': 28, \n",
    "                                                                 'RAIPUR': 29, 'RAJKOT': 30, 'RANCHI': 31, 'SHIMLA': 32, \n",
    "                                                                 'SURYAPET': 33, 'THANE': 34, 'THIRUVANANTHPURAM': 35, \n",
    "                                                                 'TIRIPATHI': 36, 'UDAIPUR': 37, 'VAIJAWADA': 38, \n",
    "                                                                 'VARANASI': 39, 'VIKERABAD': 40, 'VISHAKAPATANAM': 41, \n",
    "                                                                 'WARANGAL': 42})"
   ]
  },
  {
   "cell_type": "code",
   "execution_count": 16,
   "metadata": {},
   "outputs": [],
   "source": [
    "credit_fraud[\"Customer_State\"]=credit_fraud[\"Customer_State\"].map({'ANDHRA': 1, 'BIHAR': 2, 'CHENNAI': 3, 'Chhattisgarh': 4, \n",
    "                                                                   'GUJARAT': 5, 'HIMACHAL PRADESH': 6, 'JHARKHAND': 7, \n",
    "                                                                   'KARNATAKA': 8, 'KERALA': 9, 'MADHYA PRADESH': 10,\n",
    "                                                                   'MAHARASHTRA': 11, 'PUNJAB': 12, 'RAJASTHAN': 13, \n",
    "                                                                   'TAMIL NADU': 14, 'TELANGANA': 15, 'UTTAR PRADESH': 16, \n",
    "                                                                   'UTTARAKHAND': 17, 'WEST BENGAL': 18})"
   ]
  },
  {
   "cell_type": "code",
   "execution_count": 17,
   "metadata": {},
   "outputs": [],
   "source": [
    "credit_fraud[\"Tansaction_Mode\"]=credit_fraud[\"Tansaction_Mode\"].map({'OFFLINE': 1, 'ONLINE': 2})"
   ]
  },
  {
   "cell_type": "code",
   "execution_count": 18,
   "metadata": {},
   "outputs": [],
   "source": [
    "credit_fraud[\"Transaction_type\"]=credit_fraud[\"Transaction_type\"].map({'CASH_WITHDRAWL': 1, 'CHEQUE': 2, 'NET_BANKING': 3, 'POS': 4})"
   ]
  },
  {
   "cell_type": "code",
   "execution_count": 19,
   "metadata": {},
   "outputs": [],
   "source": [
    "credit_fraud[\"Gender\"]=credit_fraud[\"Gender\"].map({\"MALE\": 0, \"FEMALE\":1})"
   ]
  },
  {
   "cell_type": "code",
   "execution_count": 20,
   "metadata": {},
   "outputs": [],
   "source": [
    "credit_fraud[\"Self_Employment\"]=credit_fraud[\"Self_Employment\"].map({\"NO\": 0, \"YES\":1})"
   ]
  },
  {
   "cell_type": "code",
   "execution_count": 21,
   "metadata": {},
   "outputs": [],
   "source": [
    "credit_fraud[\"Education\"]=credit_fraud[\"Education\"].map({\"GRADUATE\": 0, \"NON_GRADUATE\":1})"
   ]
  },
  {
   "cell_type": "code",
   "execution_count": 22,
   "metadata": {},
   "outputs": [],
   "source": [
    "credit_fraud[\"Existing_Credit_Card\"]=credit_fraud[\"Existing_Credit_Card\"].map({'ANDRA_BANK': 1, 'AXIS': 2, 'HSBC': 3, 'ICICI': 4, 'KOTAK': 5, 'PUNJAB_NATIONAL_BANK': 6, 'SBH': 7, 'SBI': 8})"
   ]
  },
  {
   "cell_type": "code",
   "execution_count": 23,
   "metadata": {},
   "outputs": [],
   "source": [
    "#from sklearn.metrics import plot_confusion_matrix"
   ]
  },
  {
   "cell_type": "code",
   "execution_count": 24,
   "metadata": {},
   "outputs": [],
   "source": [
    "credit_fraud[\"Housing\"]=credit_fraud[\"Housing\"].map({\"RENT\": 0, \"OWN\":1})"
   ]
  },
  {
   "cell_type": "code",
   "execution_count": 25,
   "metadata": {},
   "outputs": [],
   "source": [
    "credit_fraud[\"Property_Area\"]=credit_fraud[\"Property_Area\"].map({\"URBAN\": 0, \"SEMI_URBAN\":1,\"RURAL\":2})"
   ]
  },
  {
   "cell_type": "code",
   "execution_count": 26,
   "metadata": {},
   "outputs": [],
   "source": [
    "credit_fraud[\"Present_residence\"]=credit_fraud[\"Present_residence\"].map({\"SHIMLA\": 0, \"BANGLORE\":1,\"VIKARABAD\":2,\"NAKPUR\":3,\n",
    "                                                                         \"SECUNDRABAD\":4,\"MUMBAI\":5,\"CHENNAI\":6,\"PUNE\":7,\n",
    "                                                                        \"AGRA\":8,\"KOLKOTA\":9,\"RANCHI\":10,\"NIZAMBAD\":11,\n",
    "                                                                         \"WARANGAL\":12,\"HYDERABAD\":13,\"MYSORE\":14,\n",
    "                                                                         \"NALGONDA\":15,\"BUPAL\":16,\"INDORE\":17})"
   ]
  },
  {
   "cell_type": "code",
   "execution_count": 27,
   "metadata": {},
   "outputs": [],
   "source": [
    "credit_fraud[\"Married\"]=credit_fraud[\"Married\"].map({\"NO\": 0, \"YES\":1})"
   ]
  },
  {
   "cell_type": "code",
   "execution_count": 28,
   "metadata": {},
   "outputs": [],
   "source": [
    "credit_fraud[\"Credit_Fraud\"]=credit_fraud[\"Credit_Fraud\"].map({\"NO\": 0, \"YES\":1})"
   ]
  },
  {
   "cell_type": "code",
   "execution_count": 29,
   "metadata": {},
   "outputs": [],
   "source": [
    "credit_fraud1=credit_fraud.copy()"
   ]
  },
  {
   "cell_type": "code",
   "execution_count": 30,
   "metadata": {},
   "outputs": [
    {
     "data": {
      "text/plain": [
       "(1088, 21)"
      ]
     },
     "execution_count": 30,
     "metadata": {},
     "output_type": "execute_result"
    }
   ],
   "source": [
    "credit_fraud1.shape"
   ]
  },
  {
   "cell_type": "code",
   "execution_count": 31,
   "metadata": {},
   "outputs": [
    {
     "data": {
      "text/plain": [
       "array([0, 0, 1, ..., 0, 0, 0], dtype=int64)"
      ]
     },
     "execution_count": 31,
     "metadata": {},
     "output_type": "execute_result"
    }
   ],
   "source": [
    "y=credit_fraud[\"Credit_Fraud\"].values\n",
    "y"
   ]
  },
  {
   "cell_type": "code",
   "execution_count": 32,
   "metadata": {},
   "outputs": [],
   "source": [
    "credit_fraud.drop([\"Credit_Fraud\"],axis=1,inplace=True)"
   ]
  },
  {
   "cell_type": "code",
   "execution_count": 33,
   "metadata": {},
   "outputs": [
    {
     "data": {
      "text/plain": [
       "array([[ 8.,  1.,  2., ..., 13.,  3.,  0.],\n",
       "       [42., 15.,  1., ..., 12.,  4.,  1.],\n",
       "       [21., 11.,  2., ...,  5.,  2.,  0.],\n",
       "       ...,\n",
       "       [36.,  1.,  1., ...,  1.,  5.,  1.],\n",
       "       [ 8., 15.,  2., ..., 16.,  2.,  1.],\n",
       "       [ 7.,  1.,  2., ..., 17.,  1.,  0.]])"
      ]
     },
     "execution_count": 33,
     "metadata": {},
     "output_type": "execute_result"
    }
   ],
   "source": [
    "x=credit_fraud.values\n",
    "x"
   ]
  },
  {
   "cell_type": "code",
   "execution_count": 34,
   "metadata": {},
   "outputs": [],
   "source": [
    "from sklearn.preprocessing import StandardScaler\n",
    "\n",
    "scaler=StandardScaler()\n",
    "\n",
    "x=scaler.fit_transform(x)"
   ]
  },
  {
   "cell_type": "code",
   "execution_count": 35,
   "metadata": {},
   "outputs": [
    {
     "data": {
      "text/plain": [
       "array([[-1.13682332, -1.96471426,  0.83666003, ...,  1.06402644,\n",
       "         0.05630303, -1.23702569],\n",
       "       [ 1.63641384,  0.84107307, -1.19522861, ...,  0.87405913,\n",
       "         0.86232538,  0.80839065],\n",
       "       [-0.07646794,  0.03941954,  0.83666003, ..., -0.45571201,\n",
       "        -0.74971931, -1.23702569],\n",
       "       ...,\n",
       "       [ 1.14701905, -1.96471426, -1.19522861, ..., -1.21558124,\n",
       "         1.66834772,  0.80839065],\n",
       "       [-1.13682332,  0.84107307,  0.83666003, ...,  1.63392836,\n",
       "        -0.74971931,  0.80839065],\n",
       "       [-1.21838912, -1.96471426,  0.83666003, ...,  1.82389567,\n",
       "        -1.55574166, -1.23702569]])"
      ]
     },
     "execution_count": 35,
     "metadata": {},
     "output_type": "execute_result"
    }
   ],
   "source": [
    "x"
   ]
  },
  {
   "cell_type": "code",
   "execution_count": 36,
   "metadata": {},
   "outputs": [],
   "source": [
    "from sklearn.model_selection import train_test_split"
   ]
  },
  {
   "cell_type": "code",
   "execution_count": 37,
   "metadata": {},
   "outputs": [],
   "source": [
    "x_train,x_test,y_train,y_test = train_test_split(x,y,test_size=0.25,random_state=0)"
   ]
  },
  {
   "cell_type": "code",
   "execution_count": 38,
   "metadata": {},
   "outputs": [],
   "source": [
    "from sklearn.ensemble import RandomForestClassifier\n",
    "RF= RandomForestClassifier(max_depth=5,n_estimators=100)"
   ]
  },
  {
   "cell_type": "code",
   "execution_count": 39,
   "metadata": {},
   "outputs": [
    {
     "data": {
      "text/plain": [
       "RandomForestClassifier(bootstrap=True, ccp_alpha=0.0, class_weight=None,\n",
       "                       criterion='gini', max_depth=5, max_features='auto',\n",
       "                       max_leaf_nodes=None, max_samples=None,\n",
       "                       min_impurity_decrease=0.0, min_impurity_split=None,\n",
       "                       min_samples_leaf=1, min_samples_split=2,\n",
       "                       min_weight_fraction_leaf=0.0, n_estimators=100,\n",
       "                       n_jobs=None, oob_score=False, random_state=None,\n",
       "                       verbose=0, warm_start=False)"
      ]
     },
     "execution_count": 39,
     "metadata": {},
     "output_type": "execute_result"
    }
   ],
   "source": [
    "RF.fit(x_train,y_train)"
   ]
  },
  {
   "cell_type": "code",
   "execution_count": 40,
   "metadata": {},
   "outputs": [
    {
     "data": {
      "text/plain": [
       "0.8995098039215687"
      ]
     },
     "execution_count": 40,
     "metadata": {},
     "output_type": "execute_result"
    }
   ],
   "source": [
    "RF.score(x_train,y_train)"
   ]
  },
  {
   "cell_type": "code",
   "execution_count": 41,
   "metadata": {},
   "outputs": [
    {
     "data": {
      "text/plain": [
       "0.875"
      ]
     },
     "execution_count": 41,
     "metadata": {},
     "output_type": "execute_result"
    }
   ],
   "source": [
    "RF.score(x_test,y_test)"
   ]
  },
  {
   "cell_type": "code",
   "execution_count": 42,
   "metadata": {},
   "outputs": [
    {
     "data": {
      "text/plain": [
       "0.8933823529411765"
      ]
     },
     "execution_count": 42,
     "metadata": {},
     "output_type": "execute_result"
    }
   ],
   "source": [
    "RF.score(x,y)"
   ]
  },
  {
   "cell_type": "code",
   "execution_count": 43,
   "metadata": {},
   "outputs": [
    {
     "data": {
      "text/plain": [
       "array([0, 0, 0, 0, 0, 0, 0, 0, 0, 0, 0, 0, 0, 0, 0, 0, 0, 0, 0, 0, 0, 0,\n",
       "       0, 0, 0, 0, 0, 0, 0, 0, 0, 0, 0, 0, 0, 0, 0, 0, 0, 0, 0, 0, 0, 0,\n",
       "       0, 0, 0, 0, 0, 0, 0, 0, 0, 0, 0, 0, 0, 0, 0, 0, 0, 0, 0, 0, 1, 0,\n",
       "       0, 1, 0, 0, 0, 0, 0, 0, 0, 0, 0, 0, 0, 0, 1, 0, 0, 0, 0, 0, 0, 0,\n",
       "       0, 0, 0, 0, 0, 0, 0, 1, 0, 0, 0, 0, 0, 0, 0, 0, 0, 0, 0, 0, 0, 0,\n",
       "       0, 0, 0, 0, 0, 0, 0, 0, 1, 0, 0, 0, 0, 0, 0, 0, 0, 0, 0, 0, 0, 0,\n",
       "       0, 0, 0, 0, 0, 0, 0, 0, 0, 0, 0, 0, 0, 0, 0, 0, 0, 0, 0, 0, 0, 0,\n",
       "       0, 0, 0, 0, 0, 0, 0, 0, 0, 0, 0, 0, 0, 0, 0, 0, 0, 0, 0, 0, 0, 0,\n",
       "       0, 0, 0, 0, 0, 0, 0, 0, 0, 0, 0, 0, 0, 0, 0, 0, 0, 0, 0, 0, 0, 0,\n",
       "       0, 0, 0, 0, 0, 0, 0, 0, 0, 0, 0, 0, 0, 0, 0, 0, 0, 0, 0, 0, 0, 0,\n",
       "       0, 0, 0, 0, 0, 0, 0, 0, 0, 0, 0, 0, 0, 1, 0, 0, 0, 0, 0, 0, 0, 0,\n",
       "       0, 0, 0, 0, 0, 0, 0, 0, 0, 0, 0, 0, 0, 0, 0, 0, 0, 0, 0, 0, 0, 0,\n",
       "       0, 0, 0, 0, 0, 0, 0, 0], dtype=int64)"
      ]
     },
     "execution_count": 43,
     "metadata": {},
     "output_type": "execute_result"
    }
   ],
   "source": [
    "y_predict=RF.predict(x_test)\n",
    "y_predict#predicted values"
   ]
  },
  {
   "cell_type": "code",
   "execution_count": 44,
   "metadata": {},
   "outputs": [
    {
     "data": {
      "text/plain": [
       "array([1, 0, 0, 0, 1, 0, 0, 0, 0, 0, 0, 0, 0, 0, 0, 0, 0, 0, 1, 0, 0, 1,\n",
       "       0, 0, 0, 0, 0, 0, 0, 0, 0, 0, 0, 1, 0, 0, 0, 0, 0, 0, 0, 0, 0, 0,\n",
       "       1, 0, 0, 0, 0, 0, 0, 0, 1, 0, 0, 1, 1, 0, 0, 0, 0, 0, 0, 1, 1, 1,\n",
       "       1, 1, 1, 0, 0, 1, 0, 0, 0, 0, 0, 0, 0, 0, 1, 0, 0, 1, 0, 0, 0, 0,\n",
       "       0, 0, 0, 0, 0, 0, 0, 1, 0, 0, 0, 0, 0, 0, 0, 0, 0, 0, 0, 0, 0, 0,\n",
       "       0, 0, 0, 0, 0, 0, 0, 0, 1, 0, 0, 0, 1, 0, 0, 0, 0, 0, 1, 0, 0, 0,\n",
       "       0, 0, 0, 0, 0, 0, 0, 0, 0, 1, 0, 1, 1, 0, 1, 0, 0, 0, 0, 1, 0, 0,\n",
       "       0, 0, 0, 0, 0, 0, 0, 0, 0, 1, 0, 0, 0, 0, 0, 0, 0, 0, 0, 0, 1, 0,\n",
       "       0, 0, 0, 0, 0, 0, 0, 0, 0, 0, 0, 1, 0, 0, 0, 0, 0, 1, 1, 0, 0, 0,\n",
       "       0, 0, 0, 0, 1, 0, 0, 0, 1, 0, 0, 0, 0, 0, 0, 1, 0, 0, 0, 0, 0, 0,\n",
       "       0, 0, 0, 0, 0, 1, 0, 0, 0, 0, 1, 0, 0, 1, 1, 0, 0, 0, 0, 0, 0, 0,\n",
       "       0, 0, 0, 0, 0, 0, 0, 0, 0, 0, 0, 0, 0, 0, 0, 0, 0, 0, 1, 0, 0, 0,\n",
       "       0, 0, 0, 0, 0, 0, 0, 0], dtype=int64)"
      ]
     },
     "execution_count": 44,
     "metadata": {},
     "output_type": "execute_result"
    }
   ],
   "source": [
    "y_test#actual values"
   ]
  },
  {
   "cell_type": "code",
   "execution_count": 45,
   "metadata": {},
   "outputs": [
    {
     "name": "stdout",
     "output_type": "stream",
     "text": [
      "True         0   1\n",
      "Predicted         \n",
      "0          232  34\n",
      "1            0   6\n"
     ]
    }
   ],
   "source": [
    "from sklearn.metrics import confusion_matrix, classification_report\n",
    "\n",
    "cm_df = pd.DataFrame(confusion_matrix(y_test, y_predict).T, index=RF.classes_,columns=RF.classes_)\n",
    "cm_df.index.name = 'Predicted'\n",
    "cm_df.columns.name = 'True'\n",
    "print(cm_df)"
   ]
  },
  {
   "cell_type": "code",
   "execution_count": 46,
   "metadata": {},
   "outputs": [
    {
     "name": "stdout",
     "output_type": "stream",
     "text": [
      "              precision    recall  f1-score   support\n",
      "\n",
      "           0       0.87      1.00      0.93       232\n",
      "           1       1.00      0.15      0.26        40\n",
      "\n",
      "    accuracy                           0.88       272\n",
      "   macro avg       0.94      0.57      0.60       272\n",
      "weighted avg       0.89      0.88      0.83       272\n",
      "\n"
     ]
    }
   ],
   "source": [
    "print(classification_report(y_test, y_predict))"
   ]
  },
  {
   "cell_type": "markdown",
   "metadata": {},
   "source": [
    "# SMOTE"
   ]
  },
  {
   "cell_type": "code",
   "execution_count": 47,
   "metadata": {},
   "outputs": [],
   "source": [
    "from pylab import rcParams\n",
    "import warnings\n",
    "import seaborn as sns\n",
    "%matplotlib inline\n",
    "np.random.seed(27)\n",
    "rcParams['figure.figsize'] = 10, 6\n",
    "warnings.filterwarnings('ignore')\n",
    "sns.set(style=\"darkgrid\")"
   ]
  },
  {
   "cell_type": "code",
   "execution_count": 48,
   "metadata": {},
   "outputs": [
    {
     "data": {
      "text/plain": [
       "{0: 702, 1: 114}"
      ]
     },
     "execution_count": 48,
     "metadata": {},
     "output_type": "execute_result"
    }
   ],
   "source": [
    "unique, count = np.unique(y_train, return_counts=True)\n",
    "y_train_dict_value_count = { k:v for (k,v) in zip(unique, count)}\n",
    "y_train_dict_value_count"
   ]
  },
  {
   "cell_type": "code",
   "execution_count": 49,
   "metadata": {},
   "outputs": [
    {
     "name": "stderr",
     "output_type": "stream",
     "text": [
      "Using TensorFlow backend.\n"
     ]
    }
   ],
   "source": [
    "from imblearn.over_sampling import SMOTE\n",
    "from imblearn.pipeline import make_pipeline"
   ]
  },
  {
   "cell_type": "code",
   "execution_count": 50,
   "metadata": {},
   "outputs": [
    {
     "name": "stdout",
     "output_type": "stream",
     "text": [
      "After OverSampling, the shape of train_X: (1404, 20)\n",
      "After OverSampling, the shape of train_y: (1404,) \n",
      "\n",
      "After OverSampling, counts of label '1': 702\n",
      "After OverSampling, counts of label '0': 702\n"
     ]
    }
   ],
   "source": [
    "sm = SMOTE(random_state=12)\n",
    "x_train_res, y_train_res = sm.fit_sample(x_train, y_train.ravel())\n",
    "print('After OverSampling, the shape of train_X: {}'.format(x_train_res.shape)) \n",
    "print('After OverSampling, the shape of train_y: {} \\n'.format(y_train_res.shape)) \n",
    "  \n",
    "print(\"After OverSampling, counts of label '1': {}\".format(sum(y_train_res == 1))) \n",
    "print(\"After OverSampling, counts of label '0': {}\".format(sum(y_train_res == 0))) \n"
   ]
  },
  {
   "cell_type": "code",
   "execution_count": 51,
   "metadata": {},
   "outputs": [
    {
     "data": {
      "text/plain": [
       "{0: 702, 1: 702}"
      ]
     },
     "execution_count": 51,
     "metadata": {},
     "output_type": "execute_result"
    }
   ],
   "source": [
    "unique, count = np.unique(y_train_res, return_counts=True)\n",
    "y_train_smote_value_count = { k:v for (k,v) in zip(unique, count)}\n",
    "y_train_smote_value_count"
   ]
  },
  {
   "cell_type": "code",
   "execution_count": 52,
   "metadata": {},
   "outputs": [],
   "source": [
    "clf = RandomForestClassifier().fit(x_train_res, y_train_res)"
   ]
  },
  {
   "cell_type": "code",
   "execution_count": 53,
   "metadata": {},
   "outputs": [],
   "source": [
    "Y_Test_Pred = clf.predict(x_test)"
   ]
  },
  {
   "cell_type": "code",
   "execution_count": 54,
   "metadata": {},
   "outputs": [
    {
     "data": {
      "text/html": [
       "<div>\n",
       "<style scoped>\n",
       "    .dataframe tbody tr th:only-of-type {\n",
       "        vertical-align: middle;\n",
       "    }\n",
       "\n",
       "    .dataframe tbody tr th {\n",
       "        vertical-align: top;\n",
       "    }\n",
       "\n",
       "    .dataframe thead th {\n",
       "        text-align: right;\n",
       "    }\n",
       "</style>\n",
       "<table border=\"1\" class=\"dataframe\">\n",
       "  <thead>\n",
       "    <tr style=\"text-align: right;\">\n",
       "      <th>Actual</th>\n",
       "      <th>0</th>\n",
       "      <th>1</th>\n",
       "    </tr>\n",
       "    <tr>\n",
       "      <th>Predicted</th>\n",
       "      <th></th>\n",
       "      <th></th>\n",
       "    </tr>\n",
       "  </thead>\n",
       "  <tbody>\n",
       "    <tr>\n",
       "      <td>0</td>\n",
       "      <td>228</td>\n",
       "      <td>6</td>\n",
       "    </tr>\n",
       "    <tr>\n",
       "      <td>1</td>\n",
       "      <td>4</td>\n",
       "      <td>34</td>\n",
       "    </tr>\n",
       "  </tbody>\n",
       "</table>\n",
       "</div>"
      ],
      "text/plain": [
       "Actual       0   1\n",
       "Predicted         \n",
       "0          228   6\n",
       "1            4  34"
      ]
     },
     "execution_count": 54,
     "metadata": {},
     "output_type": "execute_result"
    }
   ],
   "source": [
    "pd.crosstab(Y_Test_Pred, y_test, rownames=['Predicted'], colnames=['Actual'])"
   ]
  },
  {
   "cell_type": "code",
   "execution_count": 55,
   "metadata": {},
   "outputs": [],
   "source": [
    "def generate_model_report(y_actual, y_predicted):\n",
    "    print(\"Accuracy = \" , accuracy_score(y_actual, y_predicted))\n",
    "    print(\"Precision = \" ,precision_score(y_actual, y_predicted))\n",
    "    print(\"Recall = \" ,recall_score(y_actual, y_predicted))\n",
    "    print(\"F1 Score = \" ,f1_score(y_actual, y_predicted))\n",
    "    pass"
   ]
  },
  {
   "cell_type": "code",
   "execution_count": 56,
   "metadata": {},
   "outputs": [
    {
     "name": "stdout",
     "output_type": "stream",
     "text": [
      "Accuracy =  0.9632352941176471\n",
      "Precision =  0.8947368421052632\n",
      "Recall =  0.85\n",
      "F1 Score =  0.8717948717948718\n"
     ]
    }
   ],
   "source": [
    "from sklearn.metrics import accuracy_score\n",
    "from sklearn.metrics import precision_score, recall_score, confusion_matrix\n",
    "from sklearn.metrics import f1_score, roc_auc_score, roc_curve\n",
    "\n",
    "\n",
    "\n",
    "generate_model_report(y_test, Y_Test_Pred)"
   ]
  },
  {
   "cell_type": "code",
   "execution_count": 57,
   "metadata": {},
   "outputs": [],
   "source": [
    "def generate_auc_roc_curve(clf, x_test):\n",
    "    y_pred_proba = clf.predict_proba(x_test)[:, 1]\n",
    "    fpr, tpr, thresholds = roc_curve(y_test,  y_pred_proba)\n",
    "    auc = roc_auc_score(y_test, y_pred_proba)\n",
    "    plt.plot(fpr,tpr,label=\"AUC ROC Curve with Area Under the curve =\"+str(auc))\n",
    "    plt.legend(loc=4)\n",
    "    plt.show()\n",
    "    pass"
   ]
  },
  {
   "cell_type": "code",
   "execution_count": 58,
   "metadata": {},
   "outputs": [
    {
     "data": {
      "image/png": "[encoded data removed]",
      "text/plain": [
       "<Figure size 864x720 with 1 Axes>"
      ]
     },
     "metadata": {},
     "output_type": "display_data"
    }
   ],
   "source": [
    "import matplotlib.pyplot as plt\n",
    "plt.figure(figsize=(12,10))\n",
    "generate_auc_roc_curve(clf, x_test)"
   ]
  },
  {
   "cell_type": "markdown",
   "metadata": {},
   "source": [
    "# UNDERSAMPLING"
   ]
  },
  {
   "cell_type": "code",
   "execution_count": 59,
   "metadata": {},
   "outputs": [
    {
     "name": "stdout",
     "output_type": "stream",
     "text": [
      "154\n"
     ]
    }
   ],
   "source": [
    "minority_class_len = len(credit_fraud1[credit_fraud1['Credit_Fraud'] == 1])\n",
    "print(minority_class_len)"
   ]
  },
  {
   "cell_type": "code",
   "execution_count": 60,
   "metadata": {},
   "outputs": [
    {
     "name": "stdout",
     "output_type": "stream",
     "text": [
      "Int64Index([   0,    1,    3,    4,    5,    6,    7,    9,   10,   11,\n",
      "            ...\n",
      "            1078, 1079, 1080, 1081, 1082, 1083, 1084, 1085, 1086, 1087],\n",
      "           dtype='int64', length=934)\n"
     ]
    }
   ],
   "source": [
    "majority_class_indices = credit_fraud1[credit_fraud1['Credit_Fraud'] == 0].index\n",
    "print(majority_class_indices)"
   ]
  },
  {
   "cell_type": "code",
   "execution_count": 61,
   "metadata": {},
   "outputs": [
    {
     "name": "stdout",
     "output_type": "stream",
     "text": [
      "154\n"
     ]
    }
   ],
   "source": [
    "random_majority_indices = np.random.choice(majority_class_indices,\n",
    "                                           minority_class_len, \n",
    "                                           replace=False)\n",
    "print(len(random_majority_indices))"
   ]
  },
  {
   "cell_type": "code",
   "execution_count": 62,
   "metadata": {},
   "outputs": [
    {
     "name": "stdout",
     "output_type": "stream",
     "text": [
      "Int64Index([   2,    8,   20,   26,   47,   65,   80,   83,   89,   92,\n",
      "            ...\n",
      "             957,  966,  969,  975,  987,  996, 1020, 1023, 1029, 1074],\n",
      "           dtype='int64', length=154)\n"
     ]
    }
   ],
   "source": [
    "minority_class_indices = credit_fraud1[credit_fraud1['Credit_Fraud'] == 1].index\n",
    "print(minority_class_indices)"
   ]
  },
  {
   "cell_type": "code",
   "execution_count": 63,
   "metadata": {},
   "outputs": [],
   "source": [
    "under_sample_indices = np.concatenate([minority_class_indices,random_majority_indices])\n",
    " "
   ]
  },
  {
   "cell_type": "code",
   "execution_count": 64,
   "metadata": {},
   "outputs": [
    {
     "data": {
      "text/html": [
       "<div>\n",
       "<style scoped>\n",
       "    .dataframe tbody tr th:only-of-type {\n",
       "        vertical-align: middle;\n",
       "    }\n",
       "\n",
       "    .dataframe tbody tr th {\n",
       "        vertical-align: top;\n",
       "    }\n",
       "\n",
       "    .dataframe thead th {\n",
       "        text-align: right;\n",
       "    }\n",
       "</style>\n",
       "<table border=\"1\" class=\"dataframe\">\n",
       "  <thead>\n",
       "    <tr style=\"text-align: right;\">\n",
       "      <th></th>\n",
       "      <th>Customer_City</th>\n",
       "      <th>Customer_State</th>\n",
       "      <th>Tansaction_Mode</th>\n",
       "      <th>Transaction_type</th>\n",
       "      <th>Gender</th>\n",
       "      <th>No_of_Cards_Hold</th>\n",
       "      <th>Amount_Balance</th>\n",
       "      <th>No_of_Transactions</th>\n",
       "      <th>Credit_Limit</th>\n",
       "      <th>Age</th>\n",
       "      <th>...</th>\n",
       "      <th>Education</th>\n",
       "      <th>Salary</th>\n",
       "      <th>Existing_Credit_Card</th>\n",
       "      <th>PinCode</th>\n",
       "      <th>Housing</th>\n",
       "      <th>Property_Area</th>\n",
       "      <th>Present_residence</th>\n",
       "      <th>No_of_Dependants</th>\n",
       "      <th>Married</th>\n",
       "      <th>Credit_Fraud</th>\n",
       "    </tr>\n",
       "  </thead>\n",
       "  <tbody>\n",
       "    <tr>\n",
       "      <td>2</td>\n",
       "      <td>21</td>\n",
       "      <td>11</td>\n",
       "      <td>2</td>\n",
       "      <td>4</td>\n",
       "      <td>1</td>\n",
       "      <td>1</td>\n",
       "      <td>55</td>\n",
       "      <td>2</td>\n",
       "      <td>90</td>\n",
       "      <td>24</td>\n",
       "      <td>...</td>\n",
       "      <td>0</td>\n",
       "      <td>35.0</td>\n",
       "      <td>2</td>\n",
       "      <td>678543</td>\n",
       "      <td>0</td>\n",
       "      <td>2</td>\n",
       "      <td>5</td>\n",
       "      <td>2</td>\n",
       "      <td>0</td>\n",
       "      <td>1</td>\n",
       "    </tr>\n",
       "    <tr>\n",
       "      <td>8</td>\n",
       "      <td>17</td>\n",
       "      <td>18</td>\n",
       "      <td>1</td>\n",
       "      <td>1</td>\n",
       "      <td>0</td>\n",
       "      <td>2</td>\n",
       "      <td>70</td>\n",
       "      <td>5</td>\n",
       "      <td>100</td>\n",
       "      <td>29</td>\n",
       "      <td>...</td>\n",
       "      <td>1</td>\n",
       "      <td>98.0</td>\n",
       "      <td>6</td>\n",
       "      <td>321520</td>\n",
       "      <td>0</td>\n",
       "      <td>1</td>\n",
       "      <td>9</td>\n",
       "      <td>4</td>\n",
       "      <td>1</td>\n",
       "      <td>1</td>\n",
       "    </tr>\n",
       "    <tr>\n",
       "      <td>20</td>\n",
       "      <td>35</td>\n",
       "      <td>9</td>\n",
       "      <td>1</td>\n",
       "      <td>1</td>\n",
       "      <td>0</td>\n",
       "      <td>2</td>\n",
       "      <td>52</td>\n",
       "      <td>8</td>\n",
       "      <td>200</td>\n",
       "      <td>60</td>\n",
       "      <td>...</td>\n",
       "      <td>1</td>\n",
       "      <td>60.0</td>\n",
       "      <td>7</td>\n",
       "      <td>678543</td>\n",
       "      <td>1</td>\n",
       "      <td>2</td>\n",
       "      <td>13</td>\n",
       "      <td>3</td>\n",
       "      <td>1</td>\n",
       "      <td>1</td>\n",
       "    </tr>\n",
       "    <tr>\n",
       "      <td>26</td>\n",
       "      <td>35</td>\n",
       "      <td>9</td>\n",
       "      <td>2</td>\n",
       "      <td>3</td>\n",
       "      <td>0</td>\n",
       "      <td>1</td>\n",
       "      <td>21</td>\n",
       "      <td>7</td>\n",
       "      <td>250</td>\n",
       "      <td>28</td>\n",
       "      <td>...</td>\n",
       "      <td>1</td>\n",
       "      <td>25.0</td>\n",
       "      <td>1</td>\n",
       "      <td>321520</td>\n",
       "      <td>0</td>\n",
       "      <td>1</td>\n",
       "      <td>0</td>\n",
       "      <td>3</td>\n",
       "      <td>0</td>\n",
       "      <td>1</td>\n",
       "    </tr>\n",
       "    <tr>\n",
       "      <td>47</td>\n",
       "      <td>7</td>\n",
       "      <td>1</td>\n",
       "      <td>2</td>\n",
       "      <td>3</td>\n",
       "      <td>1</td>\n",
       "      <td>1</td>\n",
       "      <td>25</td>\n",
       "      <td>4</td>\n",
       "      <td>200</td>\n",
       "      <td>27</td>\n",
       "      <td>...</td>\n",
       "      <td>1</td>\n",
       "      <td>65.3</td>\n",
       "      <td>7</td>\n",
       "      <td>203895</td>\n",
       "      <td>1</td>\n",
       "      <td>1</td>\n",
       "      <td>3</td>\n",
       "      <td>3</td>\n",
       "      <td>0</td>\n",
       "      <td>1</td>\n",
       "    </tr>\n",
       "    <tr>\n",
       "      <td>...</td>\n",
       "      <td>...</td>\n",
       "      <td>...</td>\n",
       "      <td>...</td>\n",
       "      <td>...</td>\n",
       "      <td>...</td>\n",
       "      <td>...</td>\n",
       "      <td>...</td>\n",
       "      <td>...</td>\n",
       "      <td>...</td>\n",
       "      <td>...</td>\n",
       "      <td>...</td>\n",
       "      <td>...</td>\n",
       "      <td>...</td>\n",
       "      <td>...</td>\n",
       "      <td>...</td>\n",
       "      <td>...</td>\n",
       "      <td>...</td>\n",
       "      <td>...</td>\n",
       "      <td>...</td>\n",
       "      <td>...</td>\n",
       "      <td>...</td>\n",
       "    </tr>\n",
       "    <tr>\n",
       "      <td>1022</td>\n",
       "      <td>35</td>\n",
       "      <td>9</td>\n",
       "      <td>2</td>\n",
       "      <td>4</td>\n",
       "      <td>0</td>\n",
       "      <td>1</td>\n",
       "      <td>28</td>\n",
       "      <td>3</td>\n",
       "      <td>100</td>\n",
       "      <td>45</td>\n",
       "      <td>...</td>\n",
       "      <td>0</td>\n",
       "      <td>32.1</td>\n",
       "      <td>1</td>\n",
       "      <td>412521</td>\n",
       "      <td>0</td>\n",
       "      <td>1</td>\n",
       "      <td>1</td>\n",
       "      <td>2</td>\n",
       "      <td>1</td>\n",
       "      <td>0</td>\n",
       "    </tr>\n",
       "    <tr>\n",
       "      <td>954</td>\n",
       "      <td>38</td>\n",
       "      <td>1</td>\n",
       "      <td>2</td>\n",
       "      <td>4</td>\n",
       "      <td>0</td>\n",
       "      <td>2</td>\n",
       "      <td>48</td>\n",
       "      <td>2</td>\n",
       "      <td>200</td>\n",
       "      <td>36</td>\n",
       "      <td>...</td>\n",
       "      <td>1</td>\n",
       "      <td>32.0</td>\n",
       "      <td>6</td>\n",
       "      <td>325822</td>\n",
       "      <td>1</td>\n",
       "      <td>0</td>\n",
       "      <td>16</td>\n",
       "      <td>2</td>\n",
       "      <td>1</td>\n",
       "      <td>0</td>\n",
       "    </tr>\n",
       "    <tr>\n",
       "      <td>306</td>\n",
       "      <td>18</td>\n",
       "      <td>16</td>\n",
       "      <td>2</td>\n",
       "      <td>3</td>\n",
       "      <td>1</td>\n",
       "      <td>2</td>\n",
       "      <td>20</td>\n",
       "      <td>9</td>\n",
       "      <td>200</td>\n",
       "      <td>26</td>\n",
       "      <td>...</td>\n",
       "      <td>0</td>\n",
       "      <td>25.0</td>\n",
       "      <td>2</td>\n",
       "      <td>276543</td>\n",
       "      <td>0</td>\n",
       "      <td>1</td>\n",
       "      <td>0</td>\n",
       "      <td>2</td>\n",
       "      <td>0</td>\n",
       "      <td>0</td>\n",
       "    </tr>\n",
       "    <tr>\n",
       "      <td>767</td>\n",
       "      <td>16</td>\n",
       "      <td>9</td>\n",
       "      <td>1</td>\n",
       "      <td>1</td>\n",
       "      <td>0</td>\n",
       "      <td>1</td>\n",
       "      <td>65</td>\n",
       "      <td>7</td>\n",
       "      <td>150</td>\n",
       "      <td>27</td>\n",
       "      <td>...</td>\n",
       "      <td>0</td>\n",
       "      <td>45.0</td>\n",
       "      <td>2</td>\n",
       "      <td>856231</td>\n",
       "      <td>1</td>\n",
       "      <td>2</td>\n",
       "      <td>0</td>\n",
       "      <td>3</td>\n",
       "      <td>0</td>\n",
       "      <td>0</td>\n",
       "    </tr>\n",
       "    <tr>\n",
       "      <td>967</td>\n",
       "      <td>42</td>\n",
       "      <td>14</td>\n",
       "      <td>1</td>\n",
       "      <td>1</td>\n",
       "      <td>0</td>\n",
       "      <td>3</td>\n",
       "      <td>100</td>\n",
       "      <td>12</td>\n",
       "      <td>85</td>\n",
       "      <td>54</td>\n",
       "      <td>...</td>\n",
       "      <td>1</td>\n",
       "      <td>50.0</td>\n",
       "      <td>2</td>\n",
       "      <td>102364</td>\n",
       "      <td>0</td>\n",
       "      <td>2</td>\n",
       "      <td>7</td>\n",
       "      <td>1</td>\n",
       "      <td>0</td>\n",
       "      <td>0</td>\n",
       "    </tr>\n",
       "  </tbody>\n",
       "</table>\n",
       "<p>308 rows × 21 columns</p>\n",
       "</div>"
      ],
      "text/plain": [
       "      Customer_City  Customer_State  Tansaction_Mode  Transaction_type  \\\n",
       "2                21              11                2                 4   \n",
       "8                17              18                1                 1   \n",
       "20               35               9                1                 1   \n",
       "26               35               9                2                 3   \n",
       "47                7               1                2                 3   \n",
       "...             ...             ...              ...               ...   \n",
       "1022             35               9                2                 4   \n",
       "954              38               1                2                 4   \n",
       "306              18              16                2                 3   \n",
       "767              16               9                1                 1   \n",
       "967              42              14                1                 1   \n",
       "\n",
       "      Gender  No_of_Cards_Hold  Amount_Balance  No_of_Transactions  \\\n",
       "2          1                 1              55                   2   \n",
       "8          0                 2              70                   5   \n",
       "20         0                 2              52                   8   \n",
       "26         0                 1              21                   7   \n",
       "47         1                 1              25                   4   \n",
       "...      ...               ...             ...                 ...   \n",
       "1022       0                 1              28                   3   \n",
       "954        0                 2              48                   2   \n",
       "306        1                 2              20                   9   \n",
       "767        0                 1              65                   7   \n",
       "967        0                 3             100                  12   \n",
       "\n",
       "      Credit_Limit  Age  ...  Education  Salary  Existing_Credit_Card  \\\n",
       "2               90   24  ...          0    35.0                     2   \n",
       "8              100   29  ...          1    98.0                     6   \n",
       "20             200   60  ...          1    60.0                     7   \n",
       "26             250   28  ...          1    25.0                     1   \n",
       "47             200   27  ...          1    65.3                     7   \n",
       "...            ...  ...  ...        ...     ...                   ...   \n",
       "1022           100   45  ...          0    32.1                     1   \n",
       "954            200   36  ...          1    32.0                     6   \n",
       "306            200   26  ...          0    25.0                     2   \n",
       "767            150   27  ...          0    45.0                     2   \n",
       "967             85   54  ...          1    50.0                     2   \n",
       "\n",
       "      PinCode  Housing  Property_Area  Present_residence  No_of_Dependants  \\\n",
       "2      678543        0              2                  5                 2   \n",
       "8      321520        0              1                  9                 4   \n",
       "20     678543        1              2                 13                 3   \n",
       "26     321520        0              1                  0                 3   \n",
       "47     203895        1              1                  3                 3   \n",
       "...       ...      ...            ...                ...               ...   \n",
       "1022   412521        0              1                  1                 2   \n",
       "954    325822        1              0                 16                 2   \n",
       "306    276543        0              1                  0                 2   \n",
       "767    856231        1              2                  0                 3   \n",
       "967    102364        0              2                  7                 1   \n",
       "\n",
       "      Married  Credit_Fraud  \n",
       "2           0             1  \n",
       "8           1             1  \n",
       "20          1             1  \n",
       "26          0             1  \n",
       "47          0             1  \n",
       "...       ...           ...  \n",
       "1022        1             0  \n",
       "954         1             0  \n",
       "306         0             0  \n",
       "767         0             0  \n",
       "967         0             0  \n",
       "\n",
       "[308 rows x 21 columns]"
      ]
     },
     "execution_count": 64,
     "metadata": {},
     "output_type": "execute_result"
    }
   ],
   "source": [
    "under_sample = credit_fraud1.loc[under_sample_indices]\n",
    "under_sample"
   ]
  },
  {
   "cell_type": "code",
   "execution_count": 65,
   "metadata": {},
   "outputs": [
    {
     "data": {
      "text/plain": [
       "Index(['Customer_City', 'Customer_State', 'Tansaction_Mode',\n",
       "       'Transaction_type', 'Gender', 'No_of_Cards_Hold', 'Amount_Balance',\n",
       "       'No_of_Transactions', 'Credit_Limit', 'Age', 'Self_Employment',\n",
       "       'Education', 'Salary', 'Existing_Credit_Card', 'PinCode', 'Housing',\n",
       "       'Property_Area', 'Present_residence', 'No_of_Dependants', 'Married',\n",
       "       'Credit_Fraud'],\n",
       "      dtype='object')"
      ]
     },
     "execution_count": 65,
     "metadata": {},
     "output_type": "execute_result"
    }
   ],
   "source": [
    "under_sample.columns"
   ]
  },
  {
   "cell_type": "code",
   "execution_count": 66,
   "metadata": {},
   "outputs": [
    {
     "data": {
      "text/plain": [
       "<matplotlib.axes._subplots.AxesSubplot at 0x1805b7ee408>"
      ]
     },
     "execution_count": 66,
     "metadata": {},
     "output_type": "execute_result"
    },
    {
     "data": {
      "image/png": "[encoded data removed]",
      "text/plain": [
       "<Figure size 720x432 with 1 Axes>"
      ]
     },
     "metadata": {},
     "output_type": "display_data"
    }
   ],
   "source": [
    "sns.countplot(x=under_sample['Credit_Fraud'], data=under_sample)"
   ]
  },
  {
   "cell_type": "code",
   "execution_count": 67,
   "metadata": {},
   "outputs": [
    {
     "data": {
      "text/plain": [
       "array([ True,  True,  True,  True,  True,  True,  True,  True,  True,\n",
       "        True,  True,  True,  True,  True,  True,  True,  True,  True,\n",
       "        True,  True, False])"
      ]
     },
     "execution_count": 67,
     "metadata": {},
     "output_type": "execute_result"
    }
   ],
   "source": [
    "under_sample.columns!='Credit_Fraud'"
   ]
  },
  {
   "cell_type": "code",
   "execution_count": 68,
   "metadata": {},
   "outputs": [],
   "source": [
    "X = under_sample.loc[:, under_sample.columns!='Credit_Fraud']\n",
    "Y = under_sample.loc[:, under_sample.columns=='Credit_Fraud']\n",
    "X_train, X_test, Y_train, Y_test = train_test_split(X, Y, test_size=0.33, random_state=42)\n",
    "clf = RandomForestClassifier().fit(X_train, Y_train)\n",
    "Y_Test_Pred = clf.predict(X_test)"
   ]
  },
  {
   "cell_type": "code",
   "execution_count": 69,
   "metadata": {},
   "outputs": [
    {
     "name": "stdout",
     "output_type": "stream",
     "text": [
      "Accuracy =  0.9705882352941176\n",
      "Precision =  0.9473684210526315\n",
      "Recall =  1.0\n",
      "F1 Score =  0.972972972972973\n"
     ]
    }
   ],
   "source": [
    "generate_model_report(Y_test, Y_Test_Pred)"
   ]
  },
  {
   "cell_type": "code",
   "execution_count": 70,
   "metadata": {},
   "outputs": [
    {
     "data": {
      "text/plain": [
       "array([0, 1, 1, 1, 1, 1, 1, 0, 0, 1, 1, 1, 0, 0, 0, 0, 1, 0, 0, 0, 1, 1,\n",
       "       1, 0, 1, 0, 1, 1, 0, 0, 1, 1, 1, 0, 1, 1, 1, 1, 0, 1, 1, 1, 0, 0,\n",
       "       0, 0, 0, 1, 0, 1, 1, 0, 1, 1, 0, 0, 0, 0, 0, 0, 0, 1, 1, 1, 0, 0,\n",
       "       0, 1, 1, 1, 1, 1, 0, 1, 1, 0, 1, 1, 1, 0, 0, 0, 1, 0, 1, 0, 1, 1,\n",
       "       0, 0, 1, 1, 1, 1, 0, 1, 1, 1, 0, 0, 1, 1], dtype=int64)"
      ]
     },
     "execution_count": 70,
     "metadata": {},
     "output_type": "execute_result"
    }
   ],
   "source": [
    "clf.predict(X_test)"
   ]
  },
  {
   "cell_type": "code",
   "execution_count": 71,
   "metadata": {},
   "outputs": [],
   "source": [
    "def generate_auc_roc_curve(clf, X_test):\n",
    "    y_pred_proba = clf.predict_proba(X_test)[:, 1]\n",
    "    fpr, tpr, thresholds = roc_curve(Y_test,  y_pred_proba)\n",
    "    auc = roc_auc_score(Y_test, y_pred_proba)\n",
    "    plt.plot(fpr,tpr,label=\"AUC ROC Curve with Area Under the curve =\"+str(auc))\n",
    "    plt.legend(loc=4)\n",
    "    plt.show()\n",
    "    "
   ]
  },
  {
   "cell_type": "code",
   "execution_count": 72,
   "metadata": {},
   "outputs": [
    {
     "data": {
      "image/png": "[encoded data removed]",
      "text/plain": [
       "<Figure size 864x720 with 1 Axes>"
      ]
     },
     "metadata": {},
     "output_type": "display_data"
    }
   ],
   "source": [
    "import matplotlib.pyplot as plt\n",
    "plt.figure(figsize=(12,10))\n",
    "generate_auc_roc_curve(clf, X_test)"
   ]
  },
  {
   "cell_type": "code",
   "execution_count": null,
   "metadata": {},
   "outputs": [],
   "source": []
  }
 ],
 "metadata": {
  "kernelspec": {
   "display_name": "Python 3",
   "language": "python",
   "name": "python3"
  },
  "language_info": {
   "codemirror_mode": {
    "name": "ipython",
    "version": 3
   },
   "file_extension": ".py",
   "mimetype": "text/x-python",
   "name": "python",
   "nbconvert_exporter": "python",
   "pygments_lexer": "ipython3",
   "version": "3.7.4"
  }
 },
 "nbformat": 4,
 "nbformat_minor": 2
}
